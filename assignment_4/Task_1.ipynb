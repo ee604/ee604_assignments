{
 "cells": [
  {
   "cell_type": "code",
   "execution_count": null,
   "metadata": {},
   "outputs": [],
   "source": [
    "# Copyright 2020 IITK EE604A Image Processing. All Rights Reserved.\n",
    "# \n",
    "# Licensed under the MIT License. Use and/or modification of this code outside of EE604 must reference:\n",
    "#\n",
    "# © IITK EE604A Image Processing \n",
    "# https://github.com/ee604/ee604_assignments\n",
    "#\n",
    "# Author: Shashi Kant Gupta, Chiranjeev Prachand and Prof K. S. Venkatesh, Department of Electrical Engineering, IIT Kanpur"
   ]
  },
  {
   "cell_type": "markdown",
   "metadata": {},
   "source": [
    "# Task 1: Image Compression: JPEG\n",
    "\n",
    "In this task, we will explore the effect of JPEG compression. You do not need to write the algorithm for JPEG compression. We will simply use the inbuilt `cv2.imwrite` function and will vary the Q value for JPEG compression. Note that here Q value is the quality.\n",
    "\n",
    "To save the image at a quality = 50, use `cv2.imwrite('filename.jpeg', img, [int(cv2.IMWRITE_JPEG_QUALITY), 50])`. \n",
    "\n",
    "Use the provided function `get_file_size()` to find the size of the file in KB. for eg: `get_file_size('filename.jpeg')`\n",
    "\n",
    "### Your task\n",
    "1. Upsample the original image by 2 >> downsample by 2 >> save at Q = 80\n",
    "2. Downsample the original image by 2 >> upsample by 2 >> save at Q = 80\n",
    "3. Apply an average filter of 5 x 5 on original image >> save at Q = 80\n",
    "\n",
    "After you do the above three operations on the original image. Compare the size of the saved image. Is there’s any change, Yes/ No? If Yes, try to explain why? Write your explanation in your observations."
   ]
  },
  {
   "cell_type": "code",
   "execution_count": null,
   "metadata": {},
   "outputs": [],
   "source": [
    "%%bash\n",
    "pip install git+https://github.com/ee604/ee604_plugins"
   ]
  },
  {
   "cell_type": "code",
   "execution_count": null,
   "metadata": {},
   "outputs": [],
   "source": [
    "# Importing required libraries\n",
    "\n",
    "import cv2\n",
    "import numpy as np\n",
    "import matplotlib.pyplot as plt\n",
    "import os\n",
    "import skimage\n",
    "\n",
    "def get_file_size(file_dir):\n",
    "    b = os.path.getsize(file_dir)\n",
    "    return round(b/1000, 1)\n",
    "\n",
    "from ee604_plugins import download_dataset, cv2_imshow\n",
    "download_dataset(assignment_no=4, task_no=1) # download data for this assignment"
   ]
  },
  {
   "cell_type": "code",
   "execution_count": null,
   "metadata": {},
   "outputs": [],
   "source": [
    "def jpeg_playground(img):\n",
    "    '''\n",
    "    Inside this function do the task as described above, i.e.\n",
    "      1. Upsample the original image by 2 >> downsample by 2 >> save at Q = 80\n",
    "      2. Downsample the original image by 2 >> upsample by 2 >> save at Q = 80\n",
    "      3. Apply an average filter of 5 x 5 on original image >> save at Q = 80\n",
    "    \n",
    "    Inputs:\n",
    "    + img - grayscaled image of size N x N\n",
    "          - values between [0, 255] - 'uint8'\n",
    "    \n",
    "    Ouputs:\n",
    "    + Orig_img - Original image after compressing at Q = 80\n",
    "    + Orig_size - Size of the saved image of Orig_img at Q = 80\n",
    "    \n",
    "    + UD_img - Image obtained after upsampling and downsampling\n",
    "    + UD_size - Size of the saved image of UD_img at Q = 80\n",
    "    \n",
    "    + DU_img - Image obtained after downsampling and upsampling\n",
    "    + DU_size - Size of the saved image of DU_img at Q = 80\n",
    "    \n",
    "    + Smooth_img - Image obtained after smoothing using average filter\n",
    "    + Smooth_size - Size of the saved image of Smooth_img at Q = 80\n",
    "    \n",
    "    Allowed external package:\n",
    "    + Any relevant module in openCV\n",
    "    \n",
    "    '''\n",
    "    \n",
    "    #############################\n",
    "    # Start your code from here #\n",
    "    #############################\n",
    "    \n",
    "    # Replace with your code...\n",
    "    \n",
    "    #############################\n",
    "    # End your code here ########\n",
    "    #############################   \n",
    "    \n",
    "    return Orig_img, Orig_size, UD_img, UD_size, DU_img, DU_size, Smooth_img, Smooth_size"
   ]
  },
  {
   "cell_type": "markdown",
   "metadata": {},
   "source": [
    "### Observations"
   ]
  },
  {
   "cell_type": "code",
   "execution_count": null,
   "metadata": {},
   "outputs": [],
   "source": [
    "# Do not change codes inside this cell\n",
    "# Add your observations in next cell\n",
    "# Your observation should compare the images vs the size of the jpeg compression on different operations\n",
    "\n",
    "img = cv2.imread(\"data/lena_gray.jpg\", 0)\n",
    "\n",
    "def plot_frame(gridx, gridy, subplot_id, img, name):\n",
    "    plt.subplot(gridx, gridy, 1 + int(subplot_id))\n",
    "    plt.imshow(np.uint8(img), cmap=\"gray\")\n",
    "    plt.axis(\"off\")\n",
    "    plt.title(name)\n",
    "\n",
    "Orig_img, Orig_size, UD_img, UD_size, DU_img, DU_size, Smooth_img, Smooth_size = jpeg_playground(img)\n",
    "\n",
    "fig = plt.figure(figsize=(12, 12))\n",
    "plot_frame(2, 2, 0, Orig_img, \"Original\\nSize: \" + str(Orig_size))\n",
    "plot_frame(2, 2, 1, UD_img, \"UD\\nSize: \" + str(UD_size))\n",
    "plot_frame(2, 2, 2, DU_img, \"DU\\nSize: \" + str(DU_size))\n",
    "plot_frame(2, 2, 3, Smooth_img, \"Smooth\\nSize: \" + str(Smooth_size))\n",
    "fig.tight_layout()\n",
    "plt.show()"
   ]
  },
  {
   "cell_type": "code",
   "execution_count": null,
   "metadata": {},
   "outputs": [],
   "source": [
    "your_observation = \"\"\"\n",
    "Replace this with your observations.\n",
    "\"\"\"\n",
    "\n",
    "print(your_observation)"
   ]
  },
  {
   "cell_type": "code",
   "execution_count": null,
   "metadata": {},
   "outputs": [],
   "source": []
  }
 ],
 "metadata": {
  "kernelspec": {
   "display_name": "Python 3",
   "language": "python",
   "name": "python3"
  },
  "language_info": {
   "codemirror_mode": {
    "name": "ipython",
    "version": 3
   },
   "file_extension": ".py",
   "mimetype": "text/x-python",
   "name": "python",
   "nbconvert_exporter": "python",
   "pygments_lexer": "ipython3",
   "version": "3.7.6"
  }
 },
 "nbformat": 4,
 "nbformat_minor": 4
}
