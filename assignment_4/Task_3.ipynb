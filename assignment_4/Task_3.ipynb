{
 "cells": [
  {
   "cell_type": "code",
   "execution_count": null,
   "metadata": {},
   "outputs": [],
   "source": [
    "# Copyright 2020 IITK EE604A Image Processing. All Rights Reserved.\n",
    "# \n",
    "# Licensed under the MIT License. Use and/or modification of this code outside of EE604 must reference:\n",
    "#\n",
    "# © IITK EE604A Image Processing \n",
    "# https://github.com/ee604/ee604_assignments\n",
    "#\n",
    "# Author: Shashi Kant Gupta, Chiranjeev Prachand and Prof K. S. Venkatesh, Department of Electrical Engineering, IIT Kanpur"
   ]
  },
  {
   "cell_type": "markdown",
   "metadata": {},
   "source": [
    "# Task 3: Morphological Edge Detector\n",
    "\n",
    "Morphological operations are one of the simplest operations that you can apply on images. Though it is simple its widely used in various application. In this part of the assignment we will eplore one of the most simplest method to draw edges in an image using morphological transform. \n",
    "\n",
    "Steps to find edges using Morphology:\n",
    "* Consider the original image to be $f$\n",
    "* Now, dilate the image $f$ and consider $d = dilate(f)$\n",
    "* Calculate $e = d - f$\n",
    "* Apply a suitable threshold (Hint: Any adaptive thresholding may be easy and usefull)\n",
    "\n",
    "PS: You are allowed to use modules available [here](https://opencv-python-tutroals.readthedocs.io/en/latest/py_tutorials/py_imgproc/py_morphological_ops/py_morphological_ops.html) and [here](https://opencv-python-tutroals.readthedocs.io/en/latest/py_tutorials/py_imgproc/py_thresholding/py_thresholding.html)\n",
    "\n",
    "Note that your main task is to find a suitable structuring element i.e. kernel, also you may need to apply any suitable filter before runnning your edge detection algorithm.\n",
    "\n",
    "### Additional Task\n",
    "Try to get the edges using inbuilt [canny edge detector in openCV](https://opencv-python-tutroals.readthedocs.io/en/latest/py_tutorials/py_imgproc/py_canny/py_canny.html). What do you observe? "
   ]
  },
  {
   "cell_type": "code",
   "execution_count": null,
   "metadata": {},
   "outputs": [],
   "source": [
    "%%bash\n",
    "pip install git+https://github.com/ee604/ee604_plugins"
   ]
  },
  {
   "cell_type": "code",
   "execution_count": null,
   "metadata": {},
   "outputs": [],
   "source": [
    "# Importing required libraries\n",
    "\n",
    "import cv2\n",
    "import numpy as np\n",
    "import matplotlib.pyplot as plt\n",
    "\n",
    "from ee604_plugins import download_dataset, cv2_imshow\n",
    "download_dataset(assignment_no=4, task_no=3) # download data for this assignment"
   ]
  },
  {
   "cell_type": "code",
   "execution_count": null,
   "metadata": {},
   "outputs": [],
   "source": [
    "def edge_detection(img):\n",
    "    '''\n",
    "    This function should return an image showing edges in the the given input image.\n",
    "    \n",
    "    Inputs:\n",
    "    + img - grayscaled image of size N x N\n",
    "          - values between [0, 255] - 'uint8'\n",
    "    \n",
    "    Ouputs:\n",
    "    + edge_morph - image having edges detected using morphology\n",
    "    + edge_canny - image having edges detected using canny\n",
    "    \n",
    "    Allowed modules:\n",
    "    + Any relevant module in openCV\n",
    "    \n",
    "    Hint:\n",
    "    + Not needed.\n",
    "    \n",
    "    '''\n",
    "    \n",
    "    #############################\n",
    "    # Start your code from here #\n",
    "    #############################\n",
    "    \n",
    "    # Replace with your code...\n",
    "    \n",
    "    #############################\n",
    "    # End your code here ########\n",
    "    #############################    \n",
    "    \n",
    "    return edge_morph, edge_canny"
   ]
  },
  {
   "cell_type": "markdown",
   "metadata": {},
   "source": [
    "### Observations"
   ]
  },
  {
   "cell_type": "code",
   "execution_count": null,
   "metadata": {},
   "outputs": [],
   "source": [
    "# Do not change codes inside this cell\n",
    "# Add your observations in next to next cell\n",
    "# Your observation should compare the morphology and canny based edge detectors on quality of detection, \n",
    "# difficulty in parmatere tuning, etc. \n",
    "\n",
    "tajmahal_pixabay = cv2.imread(\"data/tajmahal_pixabay.jpg\", 0)\n",
    "\n",
    "def plot_frame(gridx, gridy, subplot_id, img, name):\n",
    "    plt.subplot(gridx, gridy, 1 + int(subplot_id))\n",
    "    plt.imshow(np.uint8(img), cmap=\"gray\")\n",
    "    plt.axis(\"off\")\n",
    "    plt.title(name)"
   ]
  },
  {
   "cell_type": "code",
   "execution_count": null,
   "metadata": {
    "scrolled": false
   },
   "outputs": [],
   "source": [
    "# Do not change codes inside this cell\n",
    "edge_morph, edge_canny = edge_detection(tajmahal_pixabay)\n",
    "\n",
    "fig = plt.figure(figsize=(18, 6))\n",
    "plot_frame(1, 3, 0, tajmahal_pixabay, \"Image\")\n",
    "plot_frame(1, 3, 1, edge_morph, \"Edge - Morphology\")\n",
    "plot_frame(1, 3, 2, edge_canny, \"Edge - Canny\")\n",
    "fig.tight_layout()\n",
    "plt.show()"
   ]
  },
  {
   "cell_type": "code",
   "execution_count": null,
   "metadata": {},
   "outputs": [],
   "source": [
    "your_observation = \"\"\"\n",
    "Replace this with your observations.\n",
    "\"\"\"\n",
    "\n",
    "print(your_observation)"
   ]
  },
  {
   "cell_type": "code",
   "execution_count": null,
   "metadata": {},
   "outputs": [],
   "source": []
  }
 ],
 "metadata": {
  "kernelspec": {
   "display_name": "Python 3",
   "language": "python",
   "name": "python3"
  },
  "language_info": {
   "codemirror_mode": {
    "name": "ipython",
    "version": 3
   },
   "file_extension": ".py",
   "mimetype": "text/x-python",
   "name": "python",
   "nbconvert_exporter": "python",
   "pygments_lexer": "ipython3",
   "version": "3.7.6"
  }
 },
 "nbformat": 4,
 "nbformat_minor": 4
}
